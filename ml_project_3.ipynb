{
 "cells": [
  {
   "cell_type": "code",
   "execution_count": 2,
   "id": "2de280d6",
   "metadata": {},
   "outputs": [],
   "source": [
    "#importing libraries\n",
    "import pandas as pd\n",
    "import numpy as np\n",
    "\n",
    "#data visualization\n",
    "import matplotlib.pyplot as plt\n",
    "import seaborn as sns\n",
    "\n",
    "#preprocessing\n",
    "from sklearn.model_selection import train_test_split\n",
    "from sklearn.linear_model import LogisticRegression\n",
    "from sklearn.svm import SVC\n",
    "from sklearn.preprocessing import LabelEncoder\n",
    "from sklearn.preprocessing import label_binarize\n",
    "from sklearn.preprocessing import MinMaxScaler\n",
    "\n",
    "#feature selection\n",
    "from sklearn.feature_selection import mutual_info_classif\n",
    "\n",
    "#classification\n",
    "from sklearn.multiclass import OneVsRestClassifier\n",
    "from sklearn.ensemble import RandomForestClassifier\n",
    "\n",
    "# performance metrics\n",
    "from sklearn.metrics import balanced_accuracy_score,f1_score,precision_score, recall_score\n",
    "from sklearn.metrics import classification_report\n",
    "from sklearn.metrics import confusion_matrix\n",
    "from sklearn.metrics import plot_confusion_matrix\n",
    "from sklearn.metrics import roc_curve,auc\n",
    "from sklearn.metrics import roc_auc_score\n",
    "import pickle"
   ]
  },
  {
   "cell_type": "markdown",
   "id": "7bb32c5e",
   "metadata": {},
   "source": [
    "#### Importing the data"
   ]
  },
  {
   "cell_type": "code",
   "execution_count": 3,
   "id": "d3dc26e2",
   "metadata": {},
   "outputs": [],
   "source": [
    "#importing data\n",
    "data=pd.read_csv(\"breast-cancer-wisconsin.data\")"
   ]
  },
  {
   "cell_type": "code",
   "execution_count": 4,
   "id": "52499491",
   "metadata": {},
   "outputs": [],
   "source": [
    "#arranging data\n",
    "data.columns = [\"id\",\"ClumpThick\",\"UniSize\",\"UniShape\",\"MargAd\",\"SingleEpithelialSize\",\"BareNuclei\",\"BlandChromatin\",\n",
    "                \"NormalNucleoli\",\"Mitoses\",\"Class\"]"
   ]
  },
  {
   "cell_type": "code",
   "execution_count": 5,
   "id": "6c1a068c",
   "metadata": {},
   "outputs": [],
   "source": [
    "##generating a csv file from data with header\n",
    "data.to_csv(\"data.csv\", index=None, header=True)"
   ]
  },
  {
   "cell_type": "code",
   "execution_count": 6,
   "id": "09f74711",
   "metadata": {},
   "outputs": [],
   "source": [
    "#Data preprocessing\n",
    "data = pd.read_csv(\"/home/mmk6053/Manoj_data/bioinfo_python/machine_learning/data.csv\")"
   ]
  },
  {
   "cell_type": "code",
   "execution_count": 7,
   "id": "5fa680d0",
   "metadata": {},
   "outputs": [
    {
     "name": "stdout",
     "output_type": "stream",
     "text": [
      "(698, 11)\n"
     ]
    }
   ],
   "source": [
    "#print(data.head())\n",
    "print(data.shape)"
   ]
  },
  {
   "cell_type": "markdown",
   "id": "ecbbb5cf",
   "metadata": {},
   "source": [
    "### Preprocessing the data"
   ]
  },
  {
   "cell_type": "code",
   "execution_count": 8,
   "id": "d3a7e5f6",
   "metadata": {},
   "outputs": [
    {
     "name": "stdout",
     "output_type": "stream",
     "text": [
      "Index(['id', 'ClumpThick', 'UniSize'], dtype='object')\n"
     ]
    }
   ],
   "source": [
    "#Checking the data in columns\n",
    "print(data.columns[0:3])"
   ]
  },
  {
   "cell_type": "code",
   "execution_count": 9,
   "id": "37577d80",
   "metadata": {},
   "outputs": [],
   "source": [
    "#dropping the 'id' column\n",
    "data.drop(['id'], inplace = True, axis = 1)\n",
    "#print(data.head())"
   ]
  },
  {
   "cell_type": "code",
   "execution_count": 10,
   "id": "c203f3f5",
   "metadata": {},
   "outputs": [
    {
     "name": "stdout",
     "output_type": "stream",
     "text": [
      "(698, 10)\n"
     ]
    }
   ],
   "source": [
    "print(data.shape)"
   ]
  },
  {
   "cell_type": "code",
   "execution_count": 11,
   "id": "fa8a0423",
   "metadata": {},
   "outputs": [],
   "source": [
    "#Replacing the missing values\n",
    "data.replace('?', -99999, inplace = True)"
   ]
  },
  {
   "cell_type": "code",
   "execution_count": 12,
   "id": "d8a60e45",
   "metadata": {},
   "outputs": [],
   "source": [
    "#Changing the number 2 as 0 and 4 as 1 in Class column\n",
    "#making function\n",
    "def ret (x):\n",
    "    if x == 4:\n",
    "        return 1\n",
    "    else:\n",
    "        return 0\n",
    "data[\"Class\"] = data[\"Class\"].map(ret)\n",
    "\n",
    "#lambda function\n",
    "#data[\"Class\"] = data[\"Class\"].map(lambda x: 1 if x ==4 else 0)"
   ]
  },
  {
   "cell_type": "code",
   "execution_count": 13,
   "id": "f2c05ef3",
   "metadata": {},
   "outputs": [
    {
     "name": "stdout",
     "output_type": "stream",
     "text": [
      "   ClumpThick  UniSize  UniShape  MargAd  SingleEpithelialSize BareNuclei  \\\n",
      "0           5        4         4       5                     7         10   \n",
      "1           3        1         1       1                     2          2   \n",
      "2           6        8         8       1                     3          4   \n",
      "3           4        1         1       3                     2          1   \n",
      "4           8       10        10       8                     7         10   \n",
      "\n",
      "   BlandChromatin  NormalNucleoli  Mitoses  Class  \n",
      "0               3               2        1      0  \n",
      "1               3               1        1      0  \n",
      "2               3               7        1      0  \n",
      "3               3               1        1      0  \n",
      "4               9               7        1      1  \n"
     ]
    }
   ],
   "source": [
    "print(data.head())"
   ]
  },
  {
   "cell_type": "code",
   "execution_count": 14,
   "id": "971bd49b",
   "metadata": {},
   "outputs": [
    {
     "name": "stdout",
     "output_type": "stream",
     "text": [
      "column with missing values:0\n"
     ]
    }
   ],
   "source": [
    "#Checking for missing values\n",
    "datanul=data.isnull().sum()\n",
    "g=[i for i in datanul if i > 0]\n",
    "print('column with missing values:%d'%len(g))"
   ]
  },
  {
   "cell_type": "code",
   "execution_count": 15,
   "id": "97ac6521",
   "metadata": {},
   "outputs": [
    {
     "name": "stdout",
     "output_type": "stream",
     "text": [
      "(698, 10)\n"
     ]
    }
   ],
   "source": [
    "#Let's check the number of samples and features\n",
    "print(data.shape)"
   ]
  },
  {
   "cell_type": "code",
   "execution_count": 16,
   "id": "3de9658c",
   "metadata": {},
   "outputs": [
    {
     "name": "stdout",
     "output_type": "stream",
     "text": [
      "0    457\n",
      "1    241\n",
      "Name: Class, dtype: int64\n"
     ]
    }
   ],
   "source": [
    "print(data['Class'].value_counts())"
   ]
  },
  {
   "cell_type": "code",
   "execution_count": 17,
   "id": "c0d19e87",
   "metadata": {},
   "outputs": [
    {
     "data": {
      "text/plain": [
       "<AxesSubplot:>"
      ]
     },
     "execution_count": 17,
     "metadata": {},
     "output_type": "execute_result"
    },
    {
     "data": {
      "image/png": "[encoded data removed]",
      "text/plain": [
       "<Figure size 432x288 with 1 Axes>"
      ]
     },
     "metadata": {
      "needs_background": "light"
     },
     "output_type": "display_data"
    }
   ],
   "source": [
    "data['Class'].value_counts().plot.bar()"
   ]
  },
  {
   "cell_type": "markdown",
   "id": "ea52c426",
   "metadata": {},
   "source": [
    "## Labels and Features"
   ]
  },
  {
   "cell_type": "code",
   "execution_count": 18,
   "id": "3bddcb84",
   "metadata": {},
   "outputs": [],
   "source": [
    "#Defining X and y (labels and features)"
   ]
  },
  {
   "cell_type": "code",
   "execution_count": 19,
   "id": "8826e4db",
   "metadata": {},
   "outputs": [],
   "source": [
    "#Seperate the feature values from the class\n",
    "X = np.array(data.drop([\"Class\"], axis = 1))\n",
    "y= np.array(data[\"Class\"])"
   ]
  },
  {
   "cell_type": "code",
   "execution_count": 20,
   "id": "59386201",
   "metadata": {},
   "outputs": [
    {
     "name": "stdout",
     "output_type": "stream",
     "text": [
      "[[5 4 4 ... 3 2 1]\n",
      " [3 1 1 ... 3 1 1]\n",
      " [6 8 8 ... 3 7 1]\n",
      " ...\n",
      " [5 10 10 ... 8 10 2]\n",
      " [4 8 6 ... 10 6 1]\n",
      " [4 8 8 ... 10 4 1]]\n"
     ]
    }
   ],
   "source": [
    "print(X)"
   ]
  },
  {
   "cell_type": "code",
   "execution_count": 21,
   "id": "41b3de11",
   "metadata": {},
   "outputs": [
    {
     "name": "stdout",
     "output_type": "stream",
     "text": [
      "[0 0 0 0 1 0 0 0 0 0 0 1 0 1 1 0 0 1 0 1 1 0 1 0 1 0 0 0 0 0 0 1 0 0 0 1 0\n",
      " 1 1 0 1 1 1 1 0 1 0 0 1 1 1 1 1 1 1 1 1 1 1 1 0 1 1 0 1 0 1 1 0 0 1 0 1 1\n",
      " 0 0 0 0 0 0 0 0 0 1 1 1 1 0 0 0 0 0 0 0 0 0 0 1 1 1 1 0 1 1 1 1 1 0 1 0 1\n",
      " 1 1 0 0 0 1 0 0 0 0 1 1 1 0 1 0 1 0 0 0 1 0 0 0 0 0 0 0 0 0 1 0 0 0 1 0 0\n",
      " 1 0 1 1 0 0 1 0 0 0 1 1 0 0 0 0 0 1 1 0 0 0 0 0 1 1 1 0 1 0 1 0 0 0 1 1 0\n",
      " 1 1 1 0 1 1 0 0 0 0 0 0 0 0 1 1 0 0 0 1 1 0 0 0 1 1 0 1 1 1 0 0 1 0 0 1 1\n",
      " 1 1 0 1 1 0 1 1 1 0 1 0 0 1 1 1 1 0 0 0 0 0 0 1 1 0 0 0 1 0 1 1 1 0 0 0 0\n",
      " 1 1 1 1 1 0 1 1 1 0 1 0 1 1 0 0 0 0 0 1 0 0 1 1 1 1 1 0 1 1 0 0 1 1 0 1 0\n",
      " 0 0 1 1 0 1 0 1 1 0 0 1 0 0 0 1 0 0 0 1 1 0 0 1 0 0 1 0 0 1 0 1 1 1 0 0 1\n",
      " 1 0 1 0 0 1 1 0 0 0 1 0 0 0 1 1 0 0 0 1 0 0 1 1 1 1 1 1 0 0 0 0 1 1 0 0 0\n",
      " 0 0 0 0 0 0 0 0 0 0 1 0 0 0 0 1 0 0 0 0 1 0 0 0 0 0 0 0 0 1 0 0 0 0 0 0 0\n",
      " 0 0 0 0 1 0 1 0 1 0 0 0 0 1 0 0 0 1 0 1 0 0 0 0 0 0 0 1 1 0 0 0 1 0 0 0 0\n",
      " 0 0 0 0 1 0 0 0 1 0 1 1 1 0 0 0 0 0 0 0 1 1 1 0 0 0 0 0 0 0 0 0 0 0 1 0 0\n",
      " 1 1 0 0 0 1 1 1 0 1 0 1 0 0 0 0 0 0 0 0 0 0 0 0 1 0 0 0 0 0 0 0 1 1 0 0 0\n",
      " 1 0 0 1 1 0 0 0 0 0 0 1 0 0 0 0 0 0 0 0 0 0 0 0 0 0 0 1 0 0 1 0 0 0 0 0 0\n",
      " 0 0 0 0 0 0 0 0 0 1 0 0 1 1 1 1 0 0 1 0 0 0 0 0 0 1 1 0 0 0 1 0 1 0 1 1 1\n",
      " 0 1 0 0 0 0 0 0 0 0 1 1 1 0 0 1 0 1 1 1 0 0 0 0 0 0 0 0 0 0 0 0 0 1 0 0 0\n",
      " 0 0 0 1 0 0 1 0 0 0 0 0 0 0 0 0 0 0 1 0 0 0 0 0 0 0 0 0 1 0 0 0 0 0 0 0 0\n",
      " 0 1 1 1 0 0 0 0 0 0 0 0 0 1 1 0 0 0 0 0 0 0 0 0 1 0 0 0 0 1 1 1]\n"
     ]
    }
   ],
   "source": [
    "print(y)"
   ]
  },
  {
   "cell_type": "markdown",
   "id": "32eb5ba8",
   "metadata": {},
   "source": [
    "#### Training and testing the model"
   ]
  },
  {
   "cell_type": "code",
   "execution_count": 22,
   "id": "0473f04d",
   "metadata": {},
   "outputs": [],
   "source": [
    "[X_train,X_test,y_train,y_test] = train_test_split(X,y, test_size = 0.1,\n",
    "                                              random_state = 0)"
   ]
  },
  {
   "cell_type": "code",
   "execution_count": 23,
   "id": "c9b857eb",
   "metadata": {},
   "outputs": [
    {
     "data": {
      "text/html": [
       "<div>\n",
       "<style scoped>\n",
       "    .dataframe tbody tr th:only-of-type {\n",
       "        vertical-align: middle;\n",
       "    }\n",
       "\n",
       "    .dataframe tbody tr th {\n",
       "        vertical-align: top;\n",
       "    }\n",
       "\n",
       "    .dataframe thead th {\n",
       "        text-align: right;\n",
       "    }\n",
       "</style>\n",
       "<table border=\"1\" class=\"dataframe\">\n",
       "  <thead>\n",
       "    <tr style=\"text-align: right;\">\n",
       "      <th></th>\n",
       "      <th>ClumpThick</th>\n",
       "      <th>UniSize</th>\n",
       "      <th>UniShape</th>\n",
       "      <th>MargAd</th>\n",
       "      <th>SingleEpithelialSize</th>\n",
       "      <th>BlandChromatin</th>\n",
       "      <th>NormalNucleoli</th>\n",
       "      <th>Mitoses</th>\n",
       "      <th>Class</th>\n",
       "    </tr>\n",
       "  </thead>\n",
       "  <tbody>\n",
       "    <tr>\n",
       "      <th>count</th>\n",
       "      <td>698.000000</td>\n",
       "      <td>698.000000</td>\n",
       "      <td>698.000000</td>\n",
       "      <td>698.000000</td>\n",
       "      <td>698.000000</td>\n",
       "      <td>698.000000</td>\n",
       "      <td>698.000000</td>\n",
       "      <td>698.000000</td>\n",
       "      <td>698.000000</td>\n",
       "    </tr>\n",
       "    <tr>\n",
       "      <th>mean</th>\n",
       "      <td>4.416905</td>\n",
       "      <td>3.137536</td>\n",
       "      <td>3.210602</td>\n",
       "      <td>2.809456</td>\n",
       "      <td>3.217765</td>\n",
       "      <td>3.438395</td>\n",
       "      <td>2.869628</td>\n",
       "      <td>1.590258</td>\n",
       "      <td>0.345272</td>\n",
       "    </tr>\n",
       "    <tr>\n",
       "      <th>std</th>\n",
       "      <td>2.817673</td>\n",
       "      <td>3.052575</td>\n",
       "      <td>2.972867</td>\n",
       "      <td>2.856606</td>\n",
       "      <td>2.215408</td>\n",
       "      <td>2.440056</td>\n",
       "      <td>3.055004</td>\n",
       "      <td>1.716162</td>\n",
       "      <td>0.475798</td>\n",
       "    </tr>\n",
       "    <tr>\n",
       "      <th>min</th>\n",
       "      <td>1.000000</td>\n",
       "      <td>1.000000</td>\n",
       "      <td>1.000000</td>\n",
       "      <td>1.000000</td>\n",
       "      <td>1.000000</td>\n",
       "      <td>1.000000</td>\n",
       "      <td>1.000000</td>\n",
       "      <td>1.000000</td>\n",
       "      <td>0.000000</td>\n",
       "    </tr>\n",
       "    <tr>\n",
       "      <th>25%</th>\n",
       "      <td>2.000000</td>\n",
       "      <td>1.000000</td>\n",
       "      <td>1.000000</td>\n",
       "      <td>1.000000</td>\n",
       "      <td>2.000000</td>\n",
       "      <td>2.000000</td>\n",
       "      <td>1.000000</td>\n",
       "      <td>1.000000</td>\n",
       "      <td>0.000000</td>\n",
       "    </tr>\n",
       "    <tr>\n",
       "      <th>50%</th>\n",
       "      <td>4.000000</td>\n",
       "      <td>1.000000</td>\n",
       "      <td>1.000000</td>\n",
       "      <td>1.000000</td>\n",
       "      <td>2.000000</td>\n",
       "      <td>3.000000</td>\n",
       "      <td>1.000000</td>\n",
       "      <td>1.000000</td>\n",
       "      <td>0.000000</td>\n",
       "    </tr>\n",
       "    <tr>\n",
       "      <th>75%</th>\n",
       "      <td>6.000000</td>\n",
       "      <td>5.000000</td>\n",
       "      <td>5.000000</td>\n",
       "      <td>4.000000</td>\n",
       "      <td>4.000000</td>\n",
       "      <td>5.000000</td>\n",
       "      <td>4.000000</td>\n",
       "      <td>1.000000</td>\n",
       "      <td>1.000000</td>\n",
       "    </tr>\n",
       "    <tr>\n",
       "      <th>max</th>\n",
       "      <td>10.000000</td>\n",
       "      <td>10.000000</td>\n",
       "      <td>10.000000</td>\n",
       "      <td>10.000000</td>\n",
       "      <td>10.000000</td>\n",
       "      <td>10.000000</td>\n",
       "      <td>10.000000</td>\n",
       "      <td>10.000000</td>\n",
       "      <td>1.000000</td>\n",
       "    </tr>\n",
       "  </tbody>\n",
       "</table>\n",
       "</div>"
      ],
      "text/plain": [
       "       ClumpThick     UniSize    UniShape      MargAd  SingleEpithelialSize  \\\n",
       "count  698.000000  698.000000  698.000000  698.000000            698.000000   \n",
       "mean     4.416905    3.137536    3.210602    2.809456              3.217765   \n",
       "std      2.817673    3.052575    2.972867    2.856606              2.215408   \n",
       "min      1.000000    1.000000    1.000000    1.000000              1.000000   \n",
       "25%      2.000000    1.000000    1.000000    1.000000              2.000000   \n",
       "50%      4.000000    1.000000    1.000000    1.000000              2.000000   \n",
       "75%      6.000000    5.000000    5.000000    4.000000              4.000000   \n",
       "max     10.000000   10.000000   10.000000   10.000000             10.000000   \n",
       "\n",
       "       BlandChromatin  NormalNucleoli     Mitoses       Class  \n",
       "count      698.000000      698.000000  698.000000  698.000000  \n",
       "mean         3.438395        2.869628    1.590258    0.345272  \n",
       "std          2.440056        3.055004    1.716162    0.475798  \n",
       "min          1.000000        1.000000    1.000000    0.000000  \n",
       "25%          2.000000        1.000000    1.000000    0.000000  \n",
       "50%          3.000000        1.000000    1.000000    0.000000  \n",
       "75%          5.000000        4.000000    1.000000    1.000000  \n",
       "max         10.000000       10.000000   10.000000    1.000000  "
      ]
     },
     "execution_count": 23,
     "metadata": {},
     "output_type": "execute_result"
    }
   ],
   "source": [
    "data.iloc[:,0:10].describe()"
   ]
  },
  {
   "cell_type": "code",
   "execution_count": 24,
   "id": "4c53c82f",
   "metadata": {},
   "outputs": [
    {
     "name": "stdout",
     "output_type": "stream",
     "text": [
      "Accuracy of SVC: 0.9571428571428572\n"
     ]
    }
   ],
   "source": [
    "#SVC Classifier\n",
    "Classifier = SVC(kernel = 'linear')\n",
    "model  = Classifier.fit(X_train, y_train)\n",
    "#Check accuracy\n",
    "accu = model.score(X_test, y_test)\n",
    "print (\"Accuracy of SVC:\", accu)"
   ]
  },
  {
   "cell_type": "code",
   "execution_count": 25,
   "id": "46336fe7",
   "metadata": {},
   "outputs": [
    {
     "name": "stdout",
     "output_type": "stream",
     "text": [
      "Accuracy of Logistic Regression: 0.9714285714285714\n"
     ]
    }
   ],
   "source": [
    "#Logistic Regression\n",
    "Classifier = LogisticRegression(solver = 'liblinear')\n",
    "model  = Classifier.fit(X_train, y_train)\n",
    "#Check accuracy\n",
    "accu = model.score(X_test, y_test)\n",
    "print (\"Accuracy of Logistic Regression:\", accu)"
   ]
  },
  {
   "cell_type": "code",
   "execution_count": 26,
   "id": "b772875c",
   "metadata": {},
   "outputs": [],
   "source": [
    "#Saving and load the model\n",
    "#Save the model\n",
    "pickle.dump(model, open(\"LogisticRegression.m\",\"wb\"))\n",
    "#load the model\n",
    "loaded_model = pickle.load(open(\"LogisticRegression.m\", \"rb\"))"
   ]
  },
  {
   "cell_type": "code",
   "execution_count": 27,
   "id": "02cecca5",
   "metadata": {},
   "outputs": [
    {
     "name": "stdout",
     "output_type": "stream",
     "text": [
      "Accuracy of Logistic Regression :  0.9714285714285714\n"
     ]
    }
   ],
   "source": [
    "accu = loaded_model.score(X_test, y_test)\n",
    "print(\"Accuracy of Logistic Regression : \", accu)"
   ]
  },
  {
   "cell_type": "markdown",
   "id": "e2875b30",
   "metadata": {},
   "source": [
    "## Prediction"
   ]
  },
  {
   "cell_type": "code",
   "execution_count": null,
   "id": "6f50d991",
   "metadata": {},
   "outputs": [],
   "source": [
    "Home work!!!"
   ]
  }
 ],
 "metadata": {
  "kernelspec": {
   "display_name": "Python 3 (ipykernel)",
   "language": "python",
   "name": "python3"
  },
  "language_info": {
   "codemirror_mode": {
    "name": "ipython",
    "version": 3
   },
   "file_extension": ".py",
   "mimetype": "text/x-python",
   "name": "python",
   "nbconvert_exporter": "python",
   "pygments_lexer": "ipython3",
   "version": "3.9.7"
  }
 },
 "nbformat": 4,
 "nbformat_minor": 5
}
